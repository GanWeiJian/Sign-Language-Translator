{
 "cells": [
  {
   "cell_type": "code",
   "execution_count": 1,
   "id": "63d00d42",
   "metadata": {},
   "outputs": [
    {
     "name": "stdout",
     "output_type": "stream",
     "text": [
      "[[5.0109106e-06 1.7506252e-05 8.8241512e-01 4.6958416e-03 8.7180408e-03\n",
      "  2.8999215e-03 3.7887246e-05 3.1767322e-03 7.2952316e-05 2.9221640e-06\n",
      "  8.5968708e-08 3.7750229e-05 9.2503078e-02 1.2979307e-08 8.9700450e-05\n",
      "  4.9811895e-03 5.7142792e-08 7.9049317e-07 9.3439795e-08 1.7411128e-07\n",
      "  3.5142577e-07 1.1626188e-05 1.0155246e-06 2.3326636e-05 2.0930789e-05\n",
      "  2.8778287e-04]]\n"
     ]
    }
   ],
   "source": [
    "from keras.models import load_model\n",
    "from tensorflow.keras import layers\n",
    "import tensorflow as tf\n",
    "from PIL import Image, ImageOps\n",
    "import numpy as np\n",
    "\n",
    "# Load the model\n",
    "model = load_model('keras_model.h5',compile=False)\n",
    "\n",
    "# Create the array of the right shape to feed into the keras model\n",
    "# The 'length' or number of images you can put into the array is\n",
    "# determined by the first position in the shape tuple, in this case 1.\n",
    "data = np.ndarray(shape=(1, 224, 224, 3), dtype=np.float32)\n",
    "image = Image.open('C:/Users/USER/Downloads/teachable machine/image/C.50472f8e-93bc-11ec-b5b2-d7dd7e02b171.jpg')\n",
    "#resize the image to a 224x224 with the same strategy as in TM2:\n",
    "#resizing the image to be at least 224x224 and then cropping from the center\n",
    "size = (224, 224)\n",
    "image = ImageOps.fit(image, size, Image.ANTIALIAS)\n",
    "\n",
    "#turn the image into a numpy array\n",
    "image_array = np.asarray(image)\n",
    "# Normalize the image\n",
    "normalized_image_array = (image_array.astype(np.float32) / 127.0) - 1\n",
    "# Load the image into the array\n",
    "data[0] = normalized_image_array\n",
    "\n",
    "# run the inference\n",
    "prediction = model.predict(data)\n",
    "print(prediction)"
   ]
  },
  {
   "cell_type": "code",
   "execution_count": 2,
   "id": "d3099e99",
   "metadata": {},
   "outputs": [
    {
     "name": "stdout",
     "output_type": "stream",
     "text": [
      "Model: \"sequential_36\"\n",
      "_________________________________________________________________\n",
      " Layer (type)                Output Shape              Param #   \n",
      "=================================================================\n",
      " sequential_33 (Sequential)  (None, 1280)              410208    \n",
      "                                                                 \n",
      " sequential_35 (Sequential)  (None, 26)                130700    \n",
      "                                                                 \n",
      "=================================================================\n",
      "Total params: 540,908\n",
      "Trainable params: 526,828\n",
      "Non-trainable params: 14,080\n",
      "_________________________________________________________________\n"
     ]
    }
   ],
   "source": [
    "model.summary()"
   ]
  },
  {
   "cell_type": "code",
   "execution_count": 5,
   "id": "96025d2a",
   "metadata": {},
   "outputs": [
    {
     "name": "stdout",
     "output_type": "stream",
     "text": [
      "[None, 1280]\n",
      "[None, 26]\n"
     ]
    }
   ],
   "source": [
    "for layer in model.layers:\n",
    "    print(layer.get_output_at(0).get_shape().as_list())"
   ]
  },
  {
   "cell_type": "code",
   "execution_count": 6,
   "id": "4c379429",
   "metadata": {},
   "outputs": [
    {
     "data": {
      "image/png": "[encoded data removed]",
      "text/plain": [
       "<IPython.core.display.Image object>"
      ]
     },
     "execution_count": 6,
     "metadata": {},
     "output_type": "execute_result"
    }
   ],
   "source": [
    "from keras.utils.vis_utils import plot_model\n",
    "plot_model(model, to_file='model_plot.png', show_shapes=True, show_layer_names=True)"
   ]
  },
  {
   "cell_type": "code",
   "execution_count": 3,
   "id": "31c07b70",
   "metadata": {},
   "outputs": [],
   "source": [
    "REV_CLASS_MAP =REV_CLASS_MAP ={0:\"A\",1:\"B\",2:\"C\",3:\"D\",4:\"E\",5:\"F\",6:\"G\",7:\"H\",8:\"I\",9:\"J\",\n",
    "                                10:\"K\",11:\"L\",12:\"M\",13:\"N\",14:\"O\",15:\"P\",16:\"Q\",17:\"R\",18:\"S\",19:\"T\",20:\"U\",\n",
    "                                    21:\"V\",22:\"W\",23:\"X\",24:\"Y\",25:\"Z\"}\n",
    "def mapper(val):\n",
    "    return REV_CLASS_MAP[val]"
   ]
  },
  {
   "cell_type": "code",
   "execution_count": 4,
   "id": "bb025f85",
   "metadata": {},
   "outputs": [
    {
     "name": "stdout",
     "output_type": "stream",
     "text": [
      "Predicted:C\n"
     ]
    }
   ],
   "source": [
    "pred = model.predict(data)\n",
    "move_code = np.argmax(pred[0])\n",
    "move_name = mapper(move_code)\n",
    "print(\"Predicted:{}\".format(move_name))"
   ]
  },
  {
   "cell_type": "code",
   "execution_count": null,
   "id": "87a51b7a",
   "metadata": {},
   "outputs": [],
   "source": []
  }
 ],
 "metadata": {
  "kernelspec": {
   "display_name": "Python 3 (ipykernel)",
   "language": "python",
   "name": "python3"
  },
  "language_info": {
   "codemirror_mode": {
    "name": "ipython",
    "version": 3
   },
   "file_extension": ".py",
   "mimetype": "text/x-python",
   "name": "python",
   "nbconvert_exporter": "python",
   "pygments_lexer": "ipython3",
   "version": "3.9.7"
  }
 },
 "nbformat": 4,
 "nbformat_minor": 5
}
